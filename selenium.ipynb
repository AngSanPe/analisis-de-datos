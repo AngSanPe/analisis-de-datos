{
 "cells": [
  {
   "cell_type": "code",
   "execution_count": 3,
   "metadata": {},
   "outputs": [],
   "source": [
    "from bs4 import BeautifulSoup\n",
    "from selenium import webdriver\n",
    "from selenium.webdriver.common.by import By"
   ]
  },
  {
   "cell_type": "code",
   "execution_count": 6,
   "metadata": {},
   "outputs": [],
   "source": [
    "\n",
    "\n",
    "\n",
    "# Crear una instancia de WebDriver (en este caso, para Chrome)\n",
    "driver = webdriver.Chrome()\n",
    "url ='https://www.promodescuentos.com/'"
   ]
  },
  {
   "cell_type": "code",
   "execution_count": 7,
   "metadata": {},
   "outputs": [],
   "source": [
    "driver.get(url)\n",
    "driver.implicitly_wait(8)"
   ]
  },
  {
   "cell_type": "code",
   "execution_count": 8,
   "metadata": {},
   "outputs": [
    {
     "name": "stdout",
     "output_type": "stream",
     "text": [
      "30\n"
     ]
    }
   ],
   "source": [
    "\n",
    "\n",
    "_class = \"thread cept-thread-item thread--type-list imgFrame-container--scale thread--deal\".replace(' ','.')\n",
    "_id= 'thread_911488'\n",
    "elements = driver.find_elements(By.CLASS_NAME, _class)\n",
    "print(len(elements))"
   ]
  },
  {
   "cell_type": "code",
   "execution_count": 9,
   "metadata": {},
   "outputs": [],
   "source": [
    "clases=['grados',\n",
    "        'titulo',\n",
    "        'precio',\n",
    "        'usuario',\n",
    "        'empresa']\n",
    "    "
   ]
  },
  {
   "cell_type": "code",
   "execution_count": 10,
   "metadata": {},
   "outputs": [],
   "source": [
    "titulos=[]\n",
    "_titulo='thread-title'.replace(' ','.')\n",
    "for element in elements:\n",
    "    try:\n",
    "        titulo = element.find_element(By.CLASS_NAME, _titulo)\n",
    "        titul=titulo.text\n",
    "    except:\n",
    "        titul='Expirado'\n",
    "    titulos.append(titul)"
   ]
  },
  {
   "cell_type": "code",
   "execution_count": 11,
   "metadata": {},
   "outputs": [],
   "source": [
    "grados=[]\n",
    "_HOT='cept-vote-box vote-box overflow--hidden border border--color-borderGrey bRad--a thread-noClick'.replace(' ','.')\n",
    "for element in elements:\n",
    "    try:\n",
    "        HOT = element.find_element(By.CLASS_NAME, _HOT)\n",
    "        grado=HOT.text\n",
    "    except:\n",
    "        grado='Expirado'\n",
    "    grados.append(grado)"
   ]
  },
  {
   "cell_type": "code",
   "execution_count": 12,
   "metadata": {},
   "outputs": [],
   "source": [
    "precios=[]\n",
    "_precio='thread-price text--b cept-tp size--all-l size--fromW3-xl'.replace(' ','.')\n",
    "for element in elements:\n",
    "    try:\n",
    "        HOT = element.find_element(By.CLASS_NAME, _precio)\n",
    "        precio=HOT.text\n",
    "    except:\n",
    "        precio='sin precio'\n",
    "    precios.append(precio)"
   ]
  },
  {
   "cell_type": "code",
   "execution_count": 14,
   "metadata": {},
   "outputs": [],
   "source": [
    "empresas=[]\n",
    "_empresa='overflow--wrap-off text--b text--color-brandPrimary link'.replace(' ','.')\n",
    "for element in elements:\n",
    "    try:\n",
    "        HOT = element.find_element(By.CLASS_NAME, _empresa)\n",
    "        empresa=HOT.text\n",
    "    except:\n",
    "        empresa='NA'\n",
    "    empresas.append(empresa)"
   ]
  },
  {
   "cell_type": "code",
   "execution_count": 15,
   "metadata": {},
   "outputs": [],
   "source": [
    "usuarios=[]\n",
    "_usuario='thread-username'.replace(' ','.')\n",
    "for element in elements:\n",
    "    try:\n",
    "        HOT = element.find_element(By.CLASS_NAME, _usuario)\n",
    "        usuario=HOT.text\n",
    "    except:\n",
    "        usuario ='NA'\n",
    "    usuarios.append(usuario)"
   ]
  },
  {
   "cell_type": "code",
   "execution_count": 5,
   "metadata": {},
   "outputs": [],
   "source": [
    "driver.quit()"
   ]
  },
  {
   "cell_type": "code",
   "execution_count": 16,
   "metadata": {},
   "outputs": [
    {
     "name": "stdout",
     "output_type": "stream",
     "text": [
      "Se ha creado el archivo CSV: datos.csv\n"
     ]
    }
   ],
   "source": [
    "import csv\n",
    "\n",
    "    \n",
    "nombre_archivo = 'datos.csv'\n",
    "with open(nombre_archivo, mode='w', newline='') as archivo_csv:\n",
    "    writer = csv.writer(archivo_csv)\n",
    "\n",
    "    # Escribir encabezados\n",
    "    writer.writerow(['grados', 'titulo', 'precio','usuario','empresa'])\n",
    "\n",
    "    # Combinar listas y escribir en el archivo CSV\n",
    "    for fila in zip(grados, titulos, precios,usuarios,empresas):\n",
    "        writer.writerow(fila)\n",
    "\n",
    "print(f'Se ha creado el archivo CSV: {nombre_archivo}')"
   ]
  }
 ],
 "metadata": {
  "kernelspec": {
   "display_name": "base",
   "language": "python",
   "name": "python3"
  },
  "language_info": {
   "codemirror_mode": {
    "name": "ipython",
    "version": 3
   },
   "file_extension": ".py",
   "mimetype": "text/x-python",
   "name": "python",
   "nbconvert_exporter": "python",
   "pygments_lexer": "ipython3",
   "version": "3.11.3"
  }
 },
 "nbformat": 4,
 "nbformat_minor": 2
}
